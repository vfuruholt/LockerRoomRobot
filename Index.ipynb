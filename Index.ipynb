{
 "cells": [
  {
   "cell_type": "markdown",
   "metadata": {},
   "source": [
    "# Welcome to the Locker Room Robot!"
   ]
  },
  {
   "cell_type": "code",
   "execution_count": null,
   "metadata": {},
   "outputs": [],
   "source": [
    "useWeekly = input(\"Do you use you locker at least once a week on average (y/n)? \")\n",
    "useForJacket = input(\"Do you typically use it to hang your jacket after driving or bussing to work? \")\n",
    "useForDapperDan = input(\"Do you use it only to store your deo and hair wax? \")\n",
    "\n",
    "msg = \"Please clear your locker and remove the name tag.\"\n",
    "if useForJacket == \"y\" :\n",
    "    msg = msg + \" Hang your jacket on the rack outside the locker room.\"\n",
    "if useForDapperDan == \"y\"  :\n",
    "    msg = msg + \" Keep your beauty products by your desk.\"\n",
    "elif useWeekly == \"y\" :\n",
    "    msg = \"Good job, keep using your locker! \"\n",
    "\n",
    "print(msg)"
   ]
  }
 ],
 "metadata": {
  "kernelspec": {
   "display_name": "Python 3",
   "language": "python",
   "name": "python3"
  },
  "language_info": {
   "codemirror_mode": {
    "name": "ipython",
    "version": 3
   },
   "file_extension": ".py",
   "mimetype": "text/x-python",
   "name": "python",
   "nbconvert_exporter": "python",
   "pygments_lexer": "ipython3",
   "version": "3.6.7"
  }
 },
 "nbformat": 4,
 "nbformat_minor": 2
}
